{
 "cells": [
  {
   "cell_type": "markdown",
   "id": "41922766",
   "metadata": {},
   "source": [
    "# 9월 Dais Open lab 세미나\n",
    "\n",
    "* 작성자 : 김종원\n",
    "\n",
    "### To Do list \n",
    "    1) 서버 이해하기\n",
    "\n",
    "    2) 이 자리에서 파이썬 클래스 완전히 자기꺼 만들기.\n",
    "\n",
    "---"
   ]
  },
  {
   "cell_type": "markdown",
   "id": "02d5efc2",
   "metadata": {},
   "source": [
    "## 1. 서버\n",
    "\n",
    "### 1) 서버란?\n",
    "\n",
    "* **서버** :  정보를 제공해주는 컴퓨터를 말한다.\n",
    "* **클라이언트** : 정보를 요청하는 컴퓨터를 말한다.\n",
    "![서버&클라이언트](https://img1.daumcdn.net/thumb/R1280x0/?scode=mtistory2&fname=https%3A%2F%2Fblog.kakaocdn.net%2Fdn%2Fszswo%2FbtrguMMP8m2%2FVVhgEmsUtc06sRoSgxPQc1%2Fimg.png)\n",
    "\n",
    "---\n",
    "\n",
    "### 2) 서버와 개인용 컴퓨터의 차이\n",
    "서버 컴퓨터와 개인용 컴퓨터는 크게 다르지 않다. 단지, `설계 목적에서 다르다.`\n",
    "\n",
    "*  데스크톱 컴퓨터(개인용 컴퓨터)는 `일반 사용자들이 컴퓨터로 일을 하거나 영화를 보고 게임을 할수 있게 설계`하는것이 목적이다.\n",
    "*  반면에 서버 컴퓨터는 `누가 어디서나 언제든지 접속하여 서비스(정보)를 제공할 수 있게 초점을 맞추고 설계`를 한다.\n",
    "* 그래서 서버가 24시간 풀 가동되면 어마어마한 열이 발생하는데 이 열을 효율적으로 배출하도록 설계하고 중간에 서버가 다운되지 않게 하나의 제품이 고장나도 다른 제품으로 대체 가능하게 설계한다.\n",
    "*  또 서버는 항시 켜진 상태로 사용자(client)에게 서비스를 제공하는데 이때 여러 사용자가 사용 할수 있기에 `높은 수준의 컴퓨팅 능력`을 가지고 있다.\n",
    "\n",
    "### 3) 그러면 우리는 왜 서버를 구축해서 사용하는 걸까?\n",
    "우리가 어떤 프로젝트를 진행한다고 할때, 그 `프로젝트를 진행하면서 무거운 프로그램을 실행해 결과를 도출해야하는 경우`, 또는 `어떤 서비스를 진행하는데 그 서비스가 24시간 풀로 가동되어 client에게 서비스를 제공해야할때` 서버를 구축해 프로젝트 및 서비스를 진행해야 할 것이다.\n",
    "\n",
    "AI 개발 관점에서 우리가 머신러닝과 딥러닝을 배웠다는 가정하에 예를 들어 설명하겠다. 위 기술들은 `모두 데이터를 기반으로 최적의 해를 찾아 우리에게 결과를 알려준다.` 그 해를 찾는 방법은 무수히 많은 데이터를 가지고 그 안에서 패턴을 찾고 그 패턴을 통해 최적의 해를 찾는 것으로 생각하면 된다. 그런데 `위 과정에서 수많은 시간과 실패가 동반된다.` 그렇기에 우리가 프로젝트를 진행할때 고성능 서버 또는 PC가 없고 개인 노트북 PC로 머신러닝, 딥러닝을 한번 실행해서 결과를 도출한다면 그때 30시간이 걸렸다고 하자. 그러면 고성능 서버 또는 PC에서 위 프로그램을 실행해 결과를 도출하면 빠르면 2시간, 6시간 안에 결과를 도출해 우리에게 `30시간이 걸렸던 시간을 6시간으로 단축시켜 실험에 대한 결과물을 보여준다.` 그렇기에 머신러닝, 딥러닝을 공부해보면 고성능 PC를 찾게 되고 돈을 주고 서버용 PC를 구축하거나 google과 aws 같은 클라우드 서비스를 활용해 고성능 PC를 할당 받아 사용한다.\n",
    "\n",
    "그렇기에 앞으로 랩실에서 특정 프로젝트를 진행할때, `시간을 단축해 결과물을 도출해야 할때` Dais lab 실에 있는 서버를 사용해 프로그램을 실행시키면 현재 client가 가지고 있는 컴퓨터에 보다 더 빠른 성능과 시간으로 결과를 도출해줄것이다. 또 `24시간 풀로 가동해야하는 서비스를 구축할때`도 Dais lab실에 있는 서버를 사용하면 된다.\n",
    "\n",
    "\n",
    "\n",
    "---"
   ]
  },
  {
   "cell_type": "markdown",
   "id": "07bd3956",
   "metadata": {},
   "source": [
    "## 2. python Class\n",
    "\n",
    "### 1) Class 란?\n",
    "- 객체(Object)를 만들어 내기 위한 설계도 혹은 틀(템플릿)이다.\n",
    "- 클래스(Class)를 통해 생성된것을 객체(Object)라고 부른다.\n",
    "- class를 통해 여러개의 객체를 만들 수 있다.\n",
    "\n",
    "#### 파이썬 클래스를 하기전에 파이썬 함수를 복습해보자.\n",
    "\n",
    "```\n",
    "def 함수명(인자):\n",
    "    실행문\n",
    "    return 반환값 or 반환값 없음(None)\n",
    "```\n",
    "\n",
    "위 방법으로 작성하는 것을 `함수`라고한다.\n",
    "\n",
    "* **함수를 사용하는 이유가 무엇일까?**\n",
    "    * 코드를 재사용하기 위해 (ex, 반복되는 코드 구문)\n",
    "    * 코드를 간결화시키기 위해 -> 코드가 지저분해지 않고 가독성이 높아진다\n",
    "\n",
    "> 함수를 잘 사용하고 함수를 적절하게 만들 줄 아는 사람이 `능력 있는 프로그래머`이다.  (출처 : 점프투파이썬)\n",
    "\n",
    "<br></br>\n",
    "\n",
    "---\n",
    "### 2) 파이썬 클래스 문법\n",
    "**class 키워드**를 사용해 새로운 클래스를 선언한다.\n",
    "```\n",
    "class 클래스 이름:\n",
    "    변수1\n",
    "    변수2\n",
    "    def __init__(self,):\n",
    "        초기 실행문\n",
    "    def 메소드1(self,인자):\n",
    "        실행문\n",
    "    def 메소드2(self,인자):\n",
    "        실행문\n",
    "\n",
    "```   \n",
    "* self : 객체 자기 자신을 참조하는 매개변수이다.\n",
    "\n",
    "**클래스 사용에 대한 예제를 만들기.**\n",
    "* ex) `우리는 카페 마다 있는 메뉴를 전부 디지털화 시킬 수 있다는 서비스 판매 업자로 창업 했다고 가정한다.`\n"
   ]
  },
  {
   "cell_type": "code",
   "execution_count": 1,
   "id": "9c8e1a78",
   "metadata": {},
   "outputs": [
    {
     "data": {
      "text/plain": [
       "<__main__.Cafe at 0x1b14fa741d0>"
      ]
     },
     "execution_count": 1,
     "metadata": {},
     "output_type": "execute_result"
    }
   ],
   "source": [
    "## 우리는 카페라는 클래스를 선언한다.\n",
    "class Cafe:\n",
    "    pass\n",
    "cafe = Cafe()\n",
    "cafe"
   ]
  },
  {
   "cell_type": "markdown",
   "id": "2edb2397",
   "metadata": {},
   "source": [
    "1) 서비스에 대한 수주가 오기 전에 일반적으로 카페를 창업했을때 주로 있는 메뉴와 기능에 대해 Cafe 라는 클래스 선언을 통해 준비해보자.\n",
    "\n",
    "- 메뉴 \n",
    "    * 아메리카노 : 2000원\n",
    "    * 카페 라떼 : 3000원\n",
    "    * 바닐라 라떼 : 3000원\n",
    "    * 카라멜 마끼야또 : 3000원\n",
    "    * 고구마 라떼 : 3000원\n",
    "    * 복숭아 아이스티 : 2000원\n",
    "    * 밀크쉐이크 : 3500원\n",
    "    * 블루베리 쉐이크 : 3500원\n",
    "\n",
    "- 필요한 기능\n",
    "    * 주문에 대한 입력 기능\n",
    "    * 라지 사이즈로 변경 시 500원 추가\n",
    "    * 주문 계산해 최종 가격 출력\n",
    "    * 영수증 출력\n",
    "    * 매장 영업 매출\n",
    "    \n",
    "카페에 대한 정보를 디지털화 했을때, 위 메뉴와 기능이 있다고 가정하고 코드를 작성해보자."
   ]
  },
  {
   "cell_type": "code",
   "execution_count": 1,
   "id": "a2029371",
   "metadata": {},
   "outputs": [],
   "source": [
    "class Cafe:\n",
    "    orderInfo = {}  # 주문내역을 딕셔너리로 담는 변수 {\"주문번호\":[주문 내역]}\n",
    "    totalPrice = 0  # 주문했을때, 최종 가격\n",
    "    salesMoney = 0  # 가게 매장 매출\n",
    "    customerCNT = 1 # 주문 번호를 카운트할 변수\n",
    "    \n",
    "    # 처음 실행문\n",
    "    def __init__(self,cafeName,orderMenu,orderSeqMenu,content,hotmenu,coldmenu):\n",
    "        self.cafeName = cafeName  # 카페이름\n",
    "        self.orderMenu = orderMenu # 카페에 있는 주문 메뉴에 대한 딕셔너리 {\"커피메뉴\": 가격}\n",
    "        self.orderSeqMenu = orderSeqMenu # 주문을 숫자로 입력하는데 그 입력에 맞게 주문 메뉴로 변환해주는 딕셔너리{\"주문입력번호\":\"커피메뉴\"}\n",
    "        self.content = content # 손님이 주문시 템플릿 정보\n",
    "        self.hotmenu = hotmenu # 따뜻한 음료가 주문 입력 번호 위치\n",
    "        self.coldmenu = coldmenu # 차가운 음료가 주문 입력 번호 위치\n",
    "        \n",
    "    # 사이즈에 대한 템플릿 정보    \n",
    "    def sizeASK(self):\n",
    "        size = int(input(\"사이즈 : 1.기본(+0) \\t 2. 라지(+500)\"))\n",
    "        return size\n",
    "    # 사이즈에 따라 +500원 정보\n",
    "    def sizePrice(self,sizeUp):\n",
    "        return 500 if sizeUp == 2 else 0\n",
    "    \n",
    "    # 사이즈에 대한 output 템플릿 정보\n",
    "    def sizeInfo(self,sizeUp):\n",
    "        return \"Large (+500)\" if sizeUp == 2 else \"Default (+0)\"\n",
    "    \n",
    "    # 주문 템플릿\n",
    "    def inputOrder(self,):\n",
    "        print(\"---\"*30)\n",
    "        print()\n",
    "        print(\"반갑습니다. {} 카페입니다.\".format(self.cafeName))\n",
    "        print(\"주문할 번호를 선택해주세요. 선택하시면 다음 화면으로 넘어갑니다.\")\n",
    "        flag = True\n",
    "        count = 0\n",
    "        self.orderInfo[str(self.customerCNT)] = []\n",
    "        while flag:\n",
    "            print()\n",
    "            print(\"{} 번째 주문 접수 : \".format(str(int(count)+1)))\n",
    "            orderNum = int(input(self.content))\n",
    "            sizeUp  = self.sizeASK()\n",
    "            \n",
    "            if orderNum in self.coldmenu:\n",
    "                print(\"차가운 음료로 제공됩니다.\")\n",
    "                orderState = 2\n",
    "            elif orderNum in self.hotmenu:\n",
    "                print(\"따듯한 음료로 제공됩니다.\")\n",
    "                orderState = 1\n",
    "            else:\n",
    "                orderState = int(input(\"1. 따듯한 음료 \\t 2. 차가운 음료\"))\n",
    "                \n",
    "            if count == 0:   # 매장, 포장은 한번만 묻기\n",
    "                orderPlace = int(input(\"어디서 이용하실 건가요?\\t 1. 매장 \\t 2. 포장 \"))\n",
    "            # 삼항 연산자로 작성.\n",
    "            flag = True if int(input(\"주문이 접수 되었습니다.\\t 주문을 계속하실건가요? 1. 예 \\t 2. 아니요.\")) == 1 else False\n",
    "            \n",
    "            orderContent = [count, orderNum, sizeUp, orderState, orderPlace]\n",
    "            self.orderInfo[str(self.customerCNT)].append(orderContent)\n",
    "            count +=1\n",
    "            print()\n",
    "        self.customerCNT += 1\n",
    "        print(\"---\"*30)\n",
    "    \n",
    "    # 주문한것에 대한 계산 기능\n",
    "    def orderCalculation(self):\n",
    "        totalLength = len(self.orderInfo[str(self.customerCNT -1)]) # 주문을 요청한 갯수\n",
    "        self.totalPrice = 0\n",
    "        for i in range(totalLength):\n",
    "            count , orderNum, sizeUp, orderState, orderPlace = self.orderInfo[str(self.customerCNT -1)][i]\n",
    "            orderName = self.orderSeqMenu[str(orderNum)]\n",
    "            orderPrice = self.orderMenu[orderName]\n",
    "            sizeUpPrice = self.sizePrice(sizeUp)\n",
    "            self.totalPrice = self.totalPrice + orderPrice + sizeUpPrice\n",
    "        print(\"####\"*30)\n",
    "        print()\n",
    "        print(\"최종 주문 가격 : {}원\".format(format(self.totalPrice,\",\")))\n",
    "        print()\n",
    "        print(\"####\"*30)\n",
    "        self.salesMoney += self.totalPrice\n",
    "        \n",
    "    # 주문한것에 대한 영수증 출력 템플릿    \n",
    "    def showPrint(self,):\n",
    "        totalLength = len(self.orderInfo[str(self.customerCNT-1)]) # 주문을 요청한 갯수\n",
    "        tmp = \"-------\" *10\n",
    "        print(tmp)\n",
    "        print(\"\\n\"+\" \"*(len(tmp)//2 - 3) + \"주문 영수증\",end = \"\\n\\n\")\n",
    "        print(tmp)\n",
    "        for i in range(totalLength):\n",
    "            count,orderNum, sizeUp, orderState, orderPlace = self.orderInfo[str(self.customerCNT-1)][i]\n",
    "            orderName = self.orderSeqMenu[str(orderNum)]\n",
    "            orderPrice = self.orderMenu[orderName]\n",
    "            \n",
    "            print(\"{}번 메뉴 : \".format(i+1))\n",
    "            print(\" \"*(len(tmp) - len(orderName) - len(str(orderPrice)) - 5) + orderName + \" (+\" +str(orderPrice)+\"원)\")\n",
    "            print(\" \"*(len(tmp) - len(self.sizeInfo(sizeUp))) +self.sizeInfo(sizeUp))\n",
    "            print(\" \"*(len(tmp) - len(\"Hot beverage\")) +\"Hot beverage\") if orderState == 1 else print(\" \"*(len(tmp) - len(\"Ice beverage\")) +\"Ice beverage\")\n",
    "            print()\n",
    "            \n",
    "        print(tmp)\n",
    "        print()\n",
    "        finalContent = \"final order price : {}원\".format(format(self.totalPrice,\",\"))\n",
    "        print(\" \"*(len(tmp) - len(finalContent)) + finalContent)\n",
    "        print()\n",
    "        print(tmp)\n",
    "    \n",
    "    # 해당 영업점에 대한 영업 매출 템플릿\n",
    "    def showSalesMoney(self,):\n",
    "        tmp = \"-------\" *10\n",
    "        print(tmp)\n",
    "        print(\"\\n\"+\" \"*(len(tmp)//2 - 3 - (len(self.cafeName)//2)) + self.cafeName +\"의 영업 매출\",end = \"\\n\\n\")\n",
    "        print(tmp,end=\"\\n\")\n",
    "        print(\"현재 총 매출액은 : {}원 입니다.\".format(format(self.salesMoney,\",\")))\n",
    "        print(tmp)\n",
    "        "
   ]
  },
  {
   "cell_type": "markdown",
   "id": "ef6bd3f6",
   "metadata": {},
   "source": [
    "* 첫 고객이 될 Dais Open Lab Cafe 에서 수주가 들어왔다고 가정하자."
   ]
  },
  {
   "cell_type": "code",
   "execution_count": 2,
   "id": "0cc68053",
   "metadata": {},
   "outputs": [],
   "source": [
    "# 카페명\n",
    "cafeName = \"Dais Open Lab\"\n",
    "orderMenu = {\n",
    "                \"americano\" : 2000,\n",
    "                \"cafeLatte\" : 3000,\n",
    "                \"vanillaLatte\" : 3000,\n",
    "                \"CaramelMacchiato\" : 3000,\n",
    "                \"SweetPotatoLatte\" : 3000,\n",
    "                \"PeachIcedTea\" : 2000 ,\n",
    "                \"Milkshake\" : 3500,\n",
    "                \"BlueberryShake\" : 3500,\n",
    "            }\n",
    "orderSeqMenu = {\n",
    "                    \"1\":\"americano\",\n",
    "                    \"2\":\"cafeLatte\",\n",
    "                    \"3\":\"vanillaLatte\",\n",
    "                    \"4\":\"CaramelMacchiato\",\n",
    "                    \"5\":\"SweetPotatoLatte\",\n",
    "                    \"6\":\"PeachIcedTea\" ,\n",
    "                    \"7\":\"Milkshake\",\n",
    "                    \"8\":\"BlueberryShake\",\n",
    "            }\n",
    "# 주문 템플릿 정보\n",
    "content = \"1. 아메리카노 : 2,000원 \\t 2. 카페 라떼 : 3,000원 \\t 3. 바닐라 라떼 : 3,000원 \\t 4. 카라멜 마끼야또 : 3,000원 \\n5. 고구마 라떼 : 3,000원 \\t 6. 복숭아 아이스티 : 2,000원 \\t 7. 밀크 쉐이크 : 3,500원 \\t 8. 블루베리 쉐이크 : 3,500원\"\n",
    "\n",
    "# 뜨거운, 차가운 음료 정보\n",
    "hotmenu = [5]\n",
    "coldmenu = [7,8]"
   ]
  },
  {
   "cell_type": "code",
   "execution_count": 3,
   "id": "70c769d4",
   "metadata": {},
   "outputs": [],
   "source": [
    "# Dais Open lab 카페 객체를 생성.\n",
    "cafe = Cafe(cafeName,orderMenu,orderSeqMenu,content,hotmenu,coldmenu)"
   ]
  },
  {
   "cell_type": "markdown",
   "id": "33928afb",
   "metadata": {},
   "source": [
    "* 손님이 `Dais Open Lab Cafe`에 왔다고 가정 하에 주문을 입력하자."
   ]
  },
  {
   "cell_type": "code",
   "execution_count": 8,
   "id": "313ad956",
   "metadata": {},
   "outputs": [
    {
     "name": "stdout",
     "output_type": "stream",
     "text": [
      "------------------------------------------------------------------------------------------\n",
      "\n",
      "반갑습니다. Dais Open Lab 카페입니다.\n",
      "주문할 번호를 선택해주세요. 선택하시면 다음 화면으로 넘어갑니다.\n",
      "\n",
      "1 번째 주문 접수 : \n",
      "1. 아메리카노 : 2,000원 \t 2. 카페 라떼 : 3,000원 \t 3. 바닐라 라떼 : 3,000원 \t 4. 카라멜 마끼야또 : 3,000원 \n",
      "5. 고구마 라떼 : 3,000원 \t 6. 복숭아 아이스티 : 2,000원 \t 7. 밀크 쉐이크 : 3,500원 \t 8. 블루베리 쉐이크 : 3,500원4\n",
      "사이즈 : 1.기본(+0) \t 2. 라지(+500)2\n",
      "1. 따듯한 음료 \t 2. 차가운 음료2\n",
      "어디서 이용하실 건가요?\t 1. 매장 \t 2. 포장 2\n",
      "주문이 접수 되었습니다.\t 주문을 계속하실건가요? 1. 예 \t 2. 아니요.2\n",
      "\n",
      "------------------------------------------------------------------------------------------\n"
     ]
    }
   ],
   "source": [
    "# 주문 입력\n",
    "cafe.inputOrder()"
   ]
  },
  {
   "cell_type": "markdown",
   "id": "317a5d26",
   "metadata": {},
   "source": [
    "* 다음은 주문이 접수가 되었고 손님에게 결제 금액을 알려주자."
   ]
  },
  {
   "cell_type": "code",
   "execution_count": 9,
   "id": "7fca6e4d",
   "metadata": {},
   "outputs": [
    {
     "name": "stdout",
     "output_type": "stream",
     "text": [
      "########################################################################################################################\n",
      "\n",
      "최종 주문 가격 : 3,500원\n",
      "\n",
      "########################################################################################################################\n"
     ]
    }
   ],
   "source": [
    "# 최종 주문 금액 정보 출력(템플릿)\n",
    "cafe.orderCalculation()"
   ]
  },
  {
   "cell_type": "markdown",
   "id": "71f28d55",
   "metadata": {},
   "source": [
    "* 다음은 주문도 접수되었고 결제도 됐다면 손님에게 영수증을 출력해 주문이 맞는지 확인해주자."
   ]
  },
  {
   "cell_type": "code",
   "execution_count": 10,
   "id": "9cc8b0e8",
   "metadata": {},
   "outputs": [
    {
     "name": "stdout",
     "output_type": "stream",
     "text": [
      "----------------------------------------------------------------------\n",
      "\n",
      "                                주문 영수증\n",
      "\n",
      "----------------------------------------------------------------------\n",
      "1번 메뉴 : \n",
      "                                             CaramelMacchiato (+3000원)\n",
      "                                                          Large (+500)\n",
      "                                                          Ice beverage\n",
      "\n",
      "----------------------------------------------------------------------\n",
      "\n",
      "                                            final order price : 3,500원\n",
      "\n",
      "----------------------------------------------------------------------\n"
     ]
    }
   ],
   "source": [
    "# 주문에 대한 영수증 출력(템플릿)\n",
    "cafe.showPrint()"
   ]
  },
  {
   "cell_type": "markdown",
   "id": "0b0b018c",
   "metadata": {},
   "source": [
    "* 이번에는 Dais Lab Cafe 주인 입장에선 고객들이 주문을 얼마나해서 현재 가게의 매출을 알 수 있는 기능이다. "
   ]
  },
  {
   "cell_type": "code",
   "execution_count": 11,
   "id": "26e71f44",
   "metadata": {},
   "outputs": [
    {
     "name": "stdout",
     "output_type": "stream",
     "text": [
      "----------------------------------------------------------------------\n",
      "\n",
      "                          Dais Open Lab의 영업 매출\n",
      "\n",
      "----------------------------------------------------------------------\n",
      "현재 총 매출액은 : 9,000원 입니다.\n",
      "----------------------------------------------------------------------\n"
     ]
    }
   ],
   "source": [
    "# 가게 매출 내역\n",
    "cafe.showSalesMoney()"
   ]
  },
  {
   "cell_type": "markdown",
   "id": "fd5b60a0",
   "metadata": {},
   "source": [
    "---\n",
    "### Class의 장점\n",
    "\n",
    "현재 우리는 Cafe라는 클래스를 만들어 Dais Open Lab에서 수주를 받아 요구사항에 맞게 서비스를 팔았다. 현 상황에서 클래스에 대한 장점이 무엇인지 예제를 통해 살펴보자.\n",
    "\n",
    "ex)  몇일 뒤 건물주의 추천으로 **`이디야(Ediya)`**`에서도 수주가 들어왔다고 가정`을 해보자.\n",
    "\n",
    "* **이디야(Ediya)**\n",
    "    * 요구사항\n",
    "        * 메뉴가 저희와 다릅니다. 변경해주세요.\n",
    "        * 나머지 기능은 충분합니다.\n",
    "    * 답변\n",
    "        * 저희 서비스를 요청해주셔서 감사합니다.\n",
    "        * 요구하신 사항을 받았고 충분히 가능합니다.\n",
    "        * <color blue > **몇분만에 서비스 가능하도록 만들어 연락드리겠습니다.** </color>\n",
    "---"
   ]
  },
  {
   "cell_type": "markdown",
   "id": "df8fadee",
   "metadata": {},
   "source": [
    "**이디야에 대한 카페 메뉴 정보와 주문 템플릿 작성.**"
   ]
  },
  {
   "cell_type": "code",
   "execution_count": 12,
   "id": "69629610",
   "metadata": {},
   "outputs": [
    {
     "name": "stdout",
     "output_type": "stream",
     "text": [
      "----------------------------------------\n",
      "주문 템플릿 정보 보기\n",
      "1. 아메리카노 : 2,500원 \t 2. 카페 라떼 : 3,500원 \t 3. 바닐라 라떼 : 3,500원 \t 4. 카라멜 마끼야또 : 3,500원 \n",
      "5. 초코쿠키 쉐이크 : 3,500원 \t 6. 복숭아 아이스티 : 2,000원 \t 7. 밀크 쉐이크 : 3,500원 \t 8. 블루베리 쉐이크 : 3,500원\n"
     ]
    }
   ],
   "source": [
    "# 카페명\n",
    "cafeName = \"Ediya\"\n",
    "orderMenu = {\n",
    "                \"americano\" : 2500,\n",
    "                \"cafeLatte\" : 3500,\n",
    "                \"vanillaLatte\" : 3500,\n",
    "                \"CaramelMacchiato\" : 3500,\n",
    "                \"ChocolateCookieShake\" : 3500,\n",
    "                \"PeachIcedTea\" : 2000 ,\n",
    "                \"Milkshake\" : 3500,\n",
    "                \"BlueberryShake\" : 3500,\n",
    "            }\n",
    "orderSeqMenu = {\n",
    "                    \"1\":\"americano\",\n",
    "                    \"2\":\"cafeLatte\",\n",
    "                    \"3\":\"vanillaLatte\",\n",
    "                    \"4\":\"CaramelMacchiato\",\n",
    "                    \"5\":\"ChocolateCookieShake\",\n",
    "                    \"6\":\"PeachIcedTea\" ,\n",
    "                    \"7\":\"Milkshake\",\n",
    "                    \"8\":\"BlueberryShake\",\n",
    "            }\n",
    "content = \"1. 아메리카노 : 2,500원 \\t 2. 카페 라떼 : 3,500원 \\t 3. 바닐라 라떼 : 3,500원 \\t 4. 카라멜 마끼야또 : 3,500원 \\n5. 초코쿠키 쉐이크 : 3,500원 \\t 6. 복숭아 아이스티 : 2,000원 \\t 7. 밀크 쉐이크 : 3,500원 \\t 8. 블루베리 쉐이크 : 3,500원\"\n",
    "\n",
    "hotmenu = []\n",
    "coldmenu = [5,7,8]\n",
    "print(\"----\"*10)\n",
    "print(\"주문 템플릿 정보 보기\")\n",
    "print(content)"
   ]
  },
  {
   "cell_type": "markdown",
   "id": "e6093021",
   "metadata": {},
   "source": [
    "* 이디야에 대한 서비스 발품하기 전 수정 및 테스트."
   ]
  },
  {
   "cell_type": "code",
   "execution_count": 13,
   "id": "58fb327d",
   "metadata": {},
   "outputs": [],
   "source": [
    "# 이디야만의 카페 객체 생성.\n",
    "EdiyaCafe = Cafe(cafeName,orderMenu,orderSeqMenu,content,hotmenu,coldmenu)"
   ]
  },
  {
   "cell_type": "code",
   "execution_count": 14,
   "id": "94985c94",
   "metadata": {},
   "outputs": [
    {
     "name": "stdout",
     "output_type": "stream",
     "text": [
      "------------------------------------------------------------------------------------------\n",
      "\n",
      "반갑습니다. Ediya 카페입니다.\n",
      "주문할 번호를 선택해주세요. 선택하시면 다음 화면으로 넘어갑니다.\n",
      "\n",
      "1 번째 주문 접수 : \n",
      "1. 아메리카노 : 2,500원 \t 2. 카페 라떼 : 3,500원 \t 3. 바닐라 라떼 : 3,500원 \t 4. 카라멜 마끼야또 : 3,500원 \n",
      "5. 초코쿠키 쉐이크 : 3,500원 \t 6. 복숭아 아이스티 : 2,000원 \t 7. 밀크 쉐이크 : 3,500원 \t 8. 블루베리 쉐이크 : 3,500원2\n",
      "사이즈 : 1.기본(+0) \t 2. 라지(+500)2\n",
      "1. 따듯한 음료 \t 2. 차가운 음료2\n",
      "어디서 이용하실 건가요?\t 1. 매장 \t 2. 포장 2\n",
      "주문이 접수 되었습니다.\t 주문을 계속하실건가요? 1. 예 \t 2. 아니요.2\n",
      "\n",
      "------------------------------------------------------------------------------------------\n"
     ]
    }
   ],
   "source": [
    "# 주문 입력\n",
    "EdiyaCafe.inputOrder()"
   ]
  },
  {
   "cell_type": "code",
   "execution_count": 15,
   "id": "d227fe9f",
   "metadata": {},
   "outputs": [
    {
     "name": "stdout",
     "output_type": "stream",
     "text": [
      "########################################################################################################################\n",
      "\n",
      "최종 주문 가격 : 4,000원\n",
      "\n",
      "########################################################################################################################\n"
     ]
    }
   ],
   "source": [
    "# 최종 주문 금액 정보 출력(템플릿)\n",
    "EdiyaCafe.orderCalculation()"
   ]
  },
  {
   "cell_type": "code",
   "execution_count": 16,
   "id": "5f8f4592",
   "metadata": {},
   "outputs": [
    {
     "name": "stdout",
     "output_type": "stream",
     "text": [
      "----------------------------------------------------------------------\n",
      "\n",
      "                                주문 영수증\n",
      "\n",
      "----------------------------------------------------------------------\n",
      "1번 메뉴 : \n",
      "                                                    cafeLatte (+3500원)\n",
      "                                                          Large (+500)\n",
      "                                                          Ice beverage\n",
      "\n",
      "----------------------------------------------------------------------\n",
      "\n",
      "                                            final order price : 4,000원\n",
      "\n",
      "----------------------------------------------------------------------\n"
     ]
    }
   ],
   "source": [
    "# 주문에 대한 영수증 출력(템플릿)\n",
    "EdiyaCafe.showPrint()"
   ]
  },
  {
   "cell_type": "code",
   "execution_count": 17,
   "id": "77605eee",
   "metadata": {},
   "outputs": [
    {
     "name": "stdout",
     "output_type": "stream",
     "text": [
      "----------------------------------------------------------------------\n",
      "\n",
      "                              Ediya의 영업 매출\n",
      "\n",
      "----------------------------------------------------------------------\n",
      "현재 총 매출액은 : 4,000원 입니다.\n",
      "----------------------------------------------------------------------\n"
     ]
    }
   ],
   "source": [
    "# 가게 매출 내역\n",
    "EdiyaCafe.showSalesMoney()"
   ]
  },
  {
   "cell_type": "markdown",
   "id": "6bc32591",
   "metadata": {},
   "source": [
    "#### 테스트 완료 ----> 이디야에 대한 상품 발주.\n",
    "\n",
    "---\n",
    "\n",
    "### 상속기능\n",
    "\n",
    "ex) 현재 우리가 Dais Open Lab Cafe와 이디야를 수주를 받아 요구사항에 맞게 서비스를 팔았다. 해당 소문이 퍼지고 `스타벅스에서도 수주가 들어왔다고 가정`을 해보자.\n",
    "\n",
    "* **스타벅스**\n",
    "    * 요구사항\n",
    "        * 저희 메뉴에 맞게 변경해주세요.\n",
    "        * 사이즈 추가가 tall, grande, venti로 총 3가지가 있습니다. 그에 맞는 서비스가 되게 해주세요.\n",
    "        * 사이렌 오더 기능을 추가해주세요.\n",
    "        \n",
    "    * 답변\n",
    "        * 저희 OO 서비스를 요청해주셔서 감사합니다.\n",
    "        * 요구하신 사항을 받았고 충분히 가능합니다.\n",
    "        * <color blue > **몇분만에 서비스 가능하도록 만들어 연락드리겠습니다.** </color>\n",
    "    \n",
    "현재 스타벅스에서 수주를 받았고 그에 맞게 처리를 해야한다. 이때 스타벅스에서 이전 우리가 만든 Cafe 템플릿에서 보지 못한 기능도 추가되었고, 수정해야할 내역도 있었다. 그럼 우리는 어떻게 해야할까? 그 방법은 상속이라는 것을 이용하면 된다\n",
    "\n",
    "상속은 그말대로 부모의 재산을 상속받아 부를 누린다.의미와 비슷하다. 즉, 상속은 부모(Class)의 기능을 그대로 상속받아 자식(Class)이 그대로 기능을 사용하는 것을 상속 받았다고 하며 상속 받은 자식 클래스는 부모의 개성을 그대로 받을 수 있지만 부모의 기능 중 몇개를 수정하거나 새로운 기능을 만들어 사용할 수 있다. 라는 장점이 있다.\n",
    "\n",
    "**상속을 스타벅스 수주가 들어왔다는 가정하에 진행해보자.**\n",
    "\n",
    "* 상속 쓰는 방법\n",
    "```\n",
    "clas 클래스명(부모클래스명):\n",
    "    pass\n",
    "\n",
    "```\n",
    "\n",
    "* super() : 부모로 받은 기능을 정보를 실행한다.\n",
    "* 오버라이딩 :  상속 받은 기능에서 수정해야할 내역이 있다면 부모의 기능은 무시하고 자식의 기능을 사용한다. 즉, 동일한 메소드명이 있을 때 특정 클래스의 메소드를 무시하고, 다른 클래스의 메소드를 사용하는 방식이다."
   ]
  },
  {
   "cell_type": "markdown",
   "id": "bca0a0ca",
   "metadata": {},
   "source": [
    "시간에 대한 time 정보를 임포트하자."
   ]
  },
  {
   "cell_type": "code",
   "execution_count": 18,
   "id": "b0195b18",
   "metadata": {},
   "outputs": [],
   "source": [
    "import time"
   ]
  },
  {
   "cell_type": "markdown",
   "id": "1577a353",
   "metadata": {},
   "source": [
    "#### 스타벅스에 대한 클래스 생성."
   ]
  },
  {
   "cell_type": "code",
   "execution_count": 21,
   "id": "76e342fb",
   "metadata": {},
   "outputs": [],
   "source": [
    "# 스타벅스 클래스 생성. -> Cafe 라는 부모 클래스를 상속 받는다.\n",
    "class Starbucks(Cafe):\n",
    "    \"\"\"\n",
    "        부모로부터 받은 기능인 사이즈 기능 메서드를 변경.\n",
    "    \"\"\"\n",
    "    # 사이즈를 톨 그란데, 벤티 템플릿 생성.\n",
    "    def sizeASK(self):\n",
    "        size = int(input(\"사이즈 : 1.tall(+0) \\t 2. Grande(+500) \\t 3. Venti(+1000)\"))\n",
    "        return size\n",
    "    \n",
    "    # 톨 그란데, 벤티에 맞는 가격 정보 return\n",
    "    def sizePrice(self,sizeUp):\n",
    "        if sizeUp == 1:\n",
    "            return 0\n",
    "        elif sizeUp == 2:\n",
    "            return 500\n",
    "        elif sizeUp == 3:\n",
    "            return 1000\n",
    "        \n",
    "    # 톨 그란데, 벤티에 맞는 가격 정보 템플릿 생성.\n",
    "    def sizeInfo(self,sizeUp):\n",
    "        if sizeUp == 1:\n",
    "            return \"tall (+0)\"\n",
    "        elif sizeUp == 2:\n",
    "            return \" Grande (+500)\"\n",
    "        elif sizeUp == 3:\n",
    "            return \"Venti (+1000)\"\n",
    "        \n",
    "    #################################################################################################\n",
    "    # 싸이렌 오더 기능 추가.\n",
    "    #################################################################################################\n",
    "    def sirenOrder(self,orderNum):\n",
    "        tmp = \"------\"\n",
    "        print(tmp*10,end=\"\\n\\n\")\n",
    "        print(\" \"* (len(tmp)*5 - 7),end=\"\")\n",
    "        print(str(orderNum),\"번  사이렌 오더 \",end =\"\\n\\n\")\n",
    "        print(tmp*10,end=\"\\n\\n\")\n",
    "        time.sleep(0.5)\n",
    "        print(\" \"* (len(tmp)*10 - len(\"Order received !!\")),end=\"\")\n",
    "        print(\"Order received !!\",end = \"\\n\")\n",
    "        time.sleep(0.5)\n",
    "        print(\" \"* (len(tmp)*10 - len(\"cooking !!\")),end=\"\")\n",
    "        print(\"cooking !!\",end = \"\\n\")\n",
    "        time.sleep(0.5)\n",
    "        print(\" \"* (len(tmp)*10 - len(\"Cooked !!\")),end=\"\")\n",
    "        print(\"Cooked !!\",end = \"\\n\")\n",
    "        time.sleep(0.5)\n",
    "        print(\" \"* (len(tmp)*10 - len(\"Pick Up !!\")),end=\"\")\n",
    "        print(\"Pick Up !!\",end = \"\\n\")\n",
    "        print(tmp*10,end=\"\\n\\n\")\n"
   ]
  },
  {
   "cell_type": "markdown",
   "id": "a0725baa",
   "metadata": {},
   "source": [
    "* 스타벅스에 맞게 메뉴 수정 및 가게 이름 변경."
   ]
  },
  {
   "cell_type": "code",
   "execution_count": 22,
   "id": "b5ebc7c1",
   "metadata": {},
   "outputs": [
    {
     "name": "stdout",
     "output_type": "stream",
     "text": [
      "----------------------------------------\n",
      "주문 템플릿 정보 보기\n",
      "1. 아메리카노 : 4,100원 \t 2. 카페 라떼 : 5,500원 \t 3. 바닐라 라떼 : 5,500원 \t 4. 카라멜 마끼야또 : 5,500원 \n",
      "5. 초코쿠키 쉐이크 : 5,500원 \t 6. 복숭아 아이스티 : 4,000원 \t 7. 밀크 쉐이크 : 6,500원 \t 8. 블루베리 쉐이크 : 6,500원\n"
     ]
    }
   ],
   "source": [
    "# 카페 정보 수정.\n",
    "cafeName = \"Starbucks\"\n",
    "orderMenu = {\n",
    "                \"americano\" : 4100,\n",
    "                \"cafeLatte\" : 5500,\n",
    "                \"vanillaLatte\" : 5500,\n",
    "                \"CaramelMacchiato\" : 5500,\n",
    "                \"ChocolateCookieShake\" : 5500,\n",
    "                \"PeachIcedTea\" : 4000,\n",
    "                \"Milkshake\" : 6500,\n",
    "                \"BlueberryShake\" : 6500,\n",
    "            }\n",
    "orderSeqMenu = {\n",
    "                    \"1\":\"americano\",\n",
    "                    \"2\":\"cafeLatte\",\n",
    "                    \"3\":\"vanillaLatte\",\n",
    "                    \"4\":\"CaramelMacchiato\",\n",
    "                    \"5\":\"ChocolateCookieShake\",\n",
    "                    \"6\":\"PeachIcedTea\" ,\n",
    "                    \"7\":\"Milkshake\",\n",
    "                    \"8\":\"BlueberryShake\",\n",
    "            }\n",
    "content = \"1. 아메리카노 : 4,100원 \\t 2. 카페 라떼 : 5,500원 \\t 3. 바닐라 라떼 : 5,500원 \\t 4. 카라멜 마끼야또 : 5,500원 \\n5. 초코쿠키 쉐이크 : 5,500원 \\t 6. 복숭아 아이스티 : 4,000원 \\t 7. 밀크 쉐이크 : 6,500원 \\t 8. 블루베리 쉐이크 : 6,500원\"\n",
    "\n",
    "hotmenu = []\n",
    "coldmenu = [5,7,8]\n",
    "\n",
    "print(\"----\"*10)\n",
    "print(\"주문 템플릿 정보 보기\")\n",
    "print(content)"
   ]
  },
  {
   "cell_type": "markdown",
   "id": "109ba2d9",
   "metadata": {},
   "source": [
    "#### 스타벅스만의 객체 생성."
   ]
  },
  {
   "cell_type": "code",
   "execution_count": 23,
   "id": "b697f047",
   "metadata": {},
   "outputs": [],
   "source": [
    "# 스타벅스 객체 생성.\n",
    "starbucks = Starbucks(cafeName,orderMenu,orderSeqMenu,content,hotmenu,coldmenu)"
   ]
  },
  {
   "cell_type": "markdown",
   "id": "ccb39f2c",
   "metadata": {},
   "source": [
    "#### 주문 입력 기능."
   ]
  },
  {
   "cell_type": "code",
   "execution_count": 24,
   "id": "ee6aa15d",
   "metadata": {},
   "outputs": [
    {
     "name": "stdout",
     "output_type": "stream",
     "text": [
      "------------------------------------------------------------------------------------------\n",
      "\n",
      "반갑습니다. Starbucks 카페입니다.\n",
      "주문할 번호를 선택해주세요. 선택하시면 다음 화면으로 넘어갑니다.\n",
      "\n",
      "1 번째 주문 접수 : \n",
      "1. 아메리카노 : 4,100원 \t 2. 카페 라떼 : 5,500원 \t 3. 바닐라 라떼 : 5,500원 \t 4. 카라멜 마끼야또 : 5,500원 \n",
      "5. 초코쿠키 쉐이크 : 5,500원 \t 6. 복숭아 아이스티 : 4,000원 \t 7. 밀크 쉐이크 : 6,500원 \t 8. 블루베리 쉐이크 : 6,500원2\n",
      "사이즈 : 1.tall(+0) \t 2. Grande(+500) \t 3. Venti(+1000)2\n",
      "1. 따듯한 음료 \t 2. 차가운 음료2\n",
      "어디서 이용하실 건가요?\t 1. 매장 \t 2. 포장 2\n",
      "주문이 접수 되었습니다.\t 주문을 계속하실건가요? 1. 예 \t 2. 아니요.2\n",
      "\n",
      "------------------------------------------------------------------------------------------\n"
     ]
    }
   ],
   "source": [
    "# 주문 입력\n",
    "starbucks.inputOrder()"
   ]
  },
  {
   "cell_type": "markdown",
   "id": "1ab4b785",
   "metadata": {},
   "source": [
    "#### 주문 금액"
   ]
  },
  {
   "cell_type": "code",
   "execution_count": 25,
   "id": "4a9f516b",
   "metadata": {},
   "outputs": [
    {
     "name": "stdout",
     "output_type": "stream",
     "text": [
      "########################################################################################################################\n",
      "\n",
      "최종 주문 가격 : 6,000원\n",
      "\n",
      "########################################################################################################################\n"
     ]
    }
   ],
   "source": [
    "# 최종 주문 금액 정보 출력(템플릿)\n",
    "starbucks.orderCalculation()"
   ]
  },
  {
   "cell_type": "markdown",
   "id": "5480336e",
   "metadata": {},
   "source": [
    "#### 주문 영수증"
   ]
  },
  {
   "cell_type": "code",
   "execution_count": 26,
   "id": "81c43783",
   "metadata": {},
   "outputs": [
    {
     "name": "stdout",
     "output_type": "stream",
     "text": [
      "----------------------------------------------------------------------\n",
      "\n",
      "                                주문 영수증\n",
      "\n",
      "----------------------------------------------------------------------\n",
      "1번 메뉴 : \n",
      "                                                    cafeLatte (+5500원)\n",
      "                                                         Grande (+500)\n",
      "                                                          Ice beverage\n",
      "\n",
      "----------------------------------------------------------------------\n",
      "\n",
      "                                            final order price : 6,000원\n",
      "\n",
      "----------------------------------------------------------------------\n"
     ]
    }
   ],
   "source": [
    "# 주문에 대한 영수증 출력(템플릿)\n",
    "starbucks.showPrint()"
   ]
  },
  {
   "cell_type": "markdown",
   "id": "35842662",
   "metadata": {},
   "source": [
    "#### 가게 매출 내역"
   ]
  },
  {
   "cell_type": "code",
   "execution_count": 27,
   "id": "cb57a4d0",
   "metadata": {},
   "outputs": [
    {
     "name": "stdout",
     "output_type": "stream",
     "text": [
      "----------------------------------------------------------------------\n",
      "\n",
      "                            Starbucks의 영업 매출\n",
      "\n",
      "----------------------------------------------------------------------\n",
      "현재 총 매출액은 : 6,000원 입니다.\n",
      "----------------------------------------------------------------------\n"
     ]
    }
   ],
   "source": [
    "# 가게 매출 내역\n",
    "starbucks.showSalesMoney()"
   ]
  },
  {
   "cell_type": "markdown",
   "id": "cd6761d2",
   "metadata": {},
   "source": [
    "#### 추가된 기능 `싸이렌 오더`"
   ]
  },
  {
   "cell_type": "code",
   "execution_count": 28,
   "id": "47020051",
   "metadata": {},
   "outputs": [
    {
     "name": "stdout",
     "output_type": "stream",
     "text": [
      "------------------------------------------------------------\n",
      "\n",
      "                       1 번  사이렌 오더 \n",
      "\n",
      "------------------------------------------------------------\n",
      "\n",
      "                                           Order received !!\n",
      "                                                  cooking !!\n",
      "                                                   Cooked !!\n",
      "                                                  Pick Up !!\n",
      "------------------------------------------------------------\n",
      "\n"
     ]
    }
   ],
   "source": [
    "# 싸이렌 오더 기능 \n",
    "starbucks.sirenOrder(1)"
   ]
  },
  {
   "cell_type": "markdown",
   "id": "58b75af5",
   "metadata": {},
   "source": [
    "---\n",
    "\n",
    "* 다른 지역에 스타벅스 2호점을 오픈해서 똑같은 방법으로 수주가 들어왔을때"
   ]
  },
  {
   "cell_type": "code",
   "execution_count": 29,
   "id": "6046eae2",
   "metadata": {},
   "outputs": [],
   "source": [
    "starbucks1 = Starbucks(cafeName,orderMenu,orderSeqMenu,content,hotmenu,coldmenu)"
   ]
  },
  {
   "cell_type": "code",
   "execution_count": 30,
   "id": "a65b70fe",
   "metadata": {},
   "outputs": [
    {
     "name": "stdout",
     "output_type": "stream",
     "text": [
      "------------------------------------------------------------------------------------------\n",
      "\n",
      "반갑습니다. Starbucks 카페입니다.\n",
      "주문할 번호를 선택해주세요. 선택하시면 다음 화면으로 넘어갑니다.\n",
      "\n",
      "1 번째 주문 접수 : \n",
      "1. 아메리카노 : 4,100원 \t 2. 카페 라떼 : 5,500원 \t 3. 바닐라 라떼 : 5,500원 \t 4. 카라멜 마끼야또 : 5,500원 \n",
      "5. 초코쿠키 쉐이크 : 5,500원 \t 6. 복숭아 아이스티 : 4,000원 \t 7. 밀크 쉐이크 : 6,500원 \t 8. 블루베리 쉐이크 : 6,500원2\n",
      "사이즈 : 1.tall(+0) \t 2. Grande(+500) \t 3. Venti(+1000)2\n",
      "1. 따듯한 음료 \t 2. 차가운 음료2\n",
      "어디서 이용하실 건가요?\t 1. 매장 \t 2. 포장 2\n",
      "주문이 접수 되었습니다.\t 주문을 계속하실건가요? 1. 예 \t 2. 아니요.2\n",
      "\n",
      "------------------------------------------------------------------------------------------\n"
     ]
    }
   ],
   "source": [
    "starbucks1.inputOrder()"
   ]
  },
  {
   "cell_type": "code",
   "execution_count": 31,
   "id": "0ee5f938",
   "metadata": {},
   "outputs": [
    {
     "name": "stdout",
     "output_type": "stream",
     "text": [
      "########################################################################################################################\n",
      "\n",
      "최종 주문 가격 : 6,000원\n",
      "\n",
      "########################################################################################################################\n"
     ]
    }
   ],
   "source": [
    "starbucks1.orderCalculation()"
   ]
  },
  {
   "cell_type": "code",
   "execution_count": 32,
   "id": "df034949",
   "metadata": {},
   "outputs": [
    {
     "name": "stdout",
     "output_type": "stream",
     "text": [
      "----------------------------------------------------------------------\n",
      "\n",
      "                                주문 영수증\n",
      "\n",
      "----------------------------------------------------------------------\n",
      "1번 메뉴 : \n",
      "                                                    cafeLatte (+5500원)\n",
      "                                                         Grande (+500)\n",
      "                                                          Ice beverage\n",
      "\n",
      "----------------------------------------------------------------------\n",
      "\n",
      "                                            final order price : 6,000원\n",
      "\n",
      "----------------------------------------------------------------------\n"
     ]
    }
   ],
   "source": [
    "starbucks1.showPrint()"
   ]
  },
  {
   "cell_type": "code",
   "execution_count": 33,
   "id": "331bff60",
   "metadata": {},
   "outputs": [
    {
     "name": "stdout",
     "output_type": "stream",
     "text": [
      "----------------------------------------------------------------------\n",
      "\n",
      "                            Starbucks의 영업 매출\n",
      "\n",
      "----------------------------------------------------------------------\n",
      "현재 총 매출액은 : 6,000원 입니다.\n",
      "----------------------------------------------------------------------\n"
     ]
    }
   ],
   "source": [
    "starbucks1.showSalesMoney()"
   ]
  },
  {
   "cell_type": "code",
   "execution_count": 34,
   "id": "b4bd2dbb",
   "metadata": {},
   "outputs": [
    {
     "name": "stdout",
     "output_type": "stream",
     "text": [
      "------------------------------------------------------------\n",
      "\n",
      "                       1 번  사이렌 오더 \n",
      "\n",
      "------------------------------------------------------------\n",
      "\n",
      "                                           Order received !!\n",
      "                                                  cooking !!\n",
      "                                                   Cooked !!\n",
      "                                                  Pick Up !!\n",
      "------------------------------------------------------------\n",
      "\n"
     ]
    }
   ],
   "source": [
    "starbucks1.sirenOrder(1)"
   ]
  },
  {
   "cell_type": "markdown",
   "id": "8022246d",
   "metadata": {},
   "source": [
    "\n",
    "카페라는 가상의 서비스를 클래스로 만들어 봄으로써, 클래스의 상속, 오버라이딩 등을 알게 되었다.\n",
    "___"
   ]
  },
  {
   "cell_type": "markdown",
   "id": "dc2e2377",
   "metadata": {},
   "source": [
    "## 파이썬 클래스 머신러닝을 사용해서 적용해보기.(self Study)"
   ]
  },
  {
   "cell_type": "markdown",
   "id": "c2b56c94",
   "metadata": {},
   "source": [
    "### Excercise Example\n",
    "\n",
    "1) 아이리스 데이터로 class 만들어 적용해보기."
   ]
  },
  {
   "cell_type": "markdown",
   "id": "9d41d957",
   "metadata": {},
   "source": [
    "* (1) 데이터 로드"
   ]
  },
  {
   "cell_type": "code",
   "execution_count": 35,
   "id": "be236ac6",
   "metadata": {},
   "outputs": [
    {
     "name": "stdout",
     "output_type": "stream",
     "text": [
      "iris target값: [0 1 2]\n",
      "iris target명: ['setosa' 'versicolor' 'virginica']\n"
     ]
    }
   ],
   "source": [
    "from sklearn.datasets import load_iris \n",
    "import pandas as pd\n",
    "\n",
    "iris = load_iris()\n",
    "\n",
    "# 독립변수로만 구성된 데이터를 NumPy 형태로 가지고 있음\n",
    "iris_data = iris.data\n",
    "\n",
    "# iris.target은 붓꽃 데이터 세트에서 레이블을 NumPy로 가지고 있다. \n",
    "iris_label = iris.target\n",
    "print('iris target값:', iris_label[[0, 50, 100]])\n",
    "print('iris target명:', iris.target_names)"
   ]
  },
  {
   "cell_type": "markdown",
   "id": "0e1007d2",
   "metadata": {},
   "source": [
    "* (2) 데이터 정제"
   ]
  },
  {
   "cell_type": "code",
   "execution_count": 36,
   "id": "e2bedd4c",
   "metadata": {},
   "outputs": [
    {
     "data": {
      "text/html": [
       "<div>\n",
       "<style scoped>\n",
       "    .dataframe tbody tr th:only-of-type {\n",
       "        vertical-align: middle;\n",
       "    }\n",
       "\n",
       "    .dataframe tbody tr th {\n",
       "        vertical-align: top;\n",
       "    }\n",
       "\n",
       "    .dataframe thead th {\n",
       "        text-align: right;\n",
       "    }\n",
       "</style>\n",
       "<table border=\"1\" class=\"dataframe\">\n",
       "  <thead>\n",
       "    <tr style=\"text-align: right;\">\n",
       "      <th></th>\n",
       "      <th>sepal length (cm)</th>\n",
       "      <th>sepal width (cm)</th>\n",
       "      <th>petal length (cm)</th>\n",
       "      <th>petal width (cm)</th>\n",
       "      <th>label</th>\n",
       "    </tr>\n",
       "  </thead>\n",
       "  <tbody>\n",
       "    <tr>\n",
       "      <th>0</th>\n",
       "      <td>5.1</td>\n",
       "      <td>3.5</td>\n",
       "      <td>1.4</td>\n",
       "      <td>0.2</td>\n",
       "      <td>0</td>\n",
       "    </tr>\n",
       "    <tr>\n",
       "      <th>1</th>\n",
       "      <td>4.9</td>\n",
       "      <td>3.0</td>\n",
       "      <td>1.4</td>\n",
       "      <td>0.2</td>\n",
       "      <td>0</td>\n",
       "    </tr>\n",
       "    <tr>\n",
       "      <th>2</th>\n",
       "      <td>4.7</td>\n",
       "      <td>3.2</td>\n",
       "      <td>1.3</td>\n",
       "      <td>0.2</td>\n",
       "      <td>0</td>\n",
       "    </tr>\n",
       "    <tr>\n",
       "      <th>3</th>\n",
       "      <td>4.6</td>\n",
       "      <td>3.1</td>\n",
       "      <td>1.5</td>\n",
       "      <td>0.2</td>\n",
       "      <td>0</td>\n",
       "    </tr>\n",
       "    <tr>\n",
       "      <th>4</th>\n",
       "      <td>5.0</td>\n",
       "      <td>3.6</td>\n",
       "      <td>1.4</td>\n",
       "      <td>0.2</td>\n",
       "      <td>0</td>\n",
       "    </tr>\n",
       "  </tbody>\n",
       "</table>\n",
       "</div>"
      ],
      "text/plain": [
       "   sepal length (cm)  sepal width (cm)  petal length (cm)  petal width (cm)  \\\n",
       "0                5.1               3.5                1.4               0.2   \n",
       "1                4.9               3.0                1.4               0.2   \n",
       "2                4.7               3.2                1.3               0.2   \n",
       "3                4.6               3.1                1.5               0.2   \n",
       "4                5.0               3.6                1.4               0.2   \n",
       "\n",
       "   label  \n",
       "0      0  \n",
       "1      0  \n",
       "2      0  \n",
       "3      0  \n",
       "4      0  "
      ]
     },
     "execution_count": 36,
     "metadata": {},
     "output_type": "execute_result"
    }
   ],
   "source": [
    "iris_df = pd.DataFrame(data = iris_data, columns = iris.feature_names)\n",
    "iris_df['label'] = iris.target\n",
    "iris_df.head()"
   ]
  },
  {
   "cell_type": "code",
   "execution_count": 37,
   "id": "adbc0939",
   "metadata": {},
   "outputs": [
    {
     "data": {
      "text/html": [
       "<div>\n",
       "<style scoped>\n",
       "    .dataframe tbody tr th:only-of-type {\n",
       "        vertical-align: middle;\n",
       "    }\n",
       "\n",
       "    .dataframe tbody tr th {\n",
       "        vertical-align: top;\n",
       "    }\n",
       "\n",
       "    .dataframe thead th {\n",
       "        text-align: right;\n",
       "    }\n",
       "</style>\n",
       "<table border=\"1\" class=\"dataframe\">\n",
       "  <thead>\n",
       "    <tr style=\"text-align: right;\">\n",
       "      <th></th>\n",
       "      <th>sepal_length</th>\n",
       "      <th>sepal_width</th>\n",
       "      <th>petal_length</th>\n",
       "      <th>petal_width</th>\n",
       "      <th>species</th>\n",
       "    </tr>\n",
       "  </thead>\n",
       "  <tbody>\n",
       "    <tr>\n",
       "      <th>0</th>\n",
       "      <td>5.1</td>\n",
       "      <td>3.5</td>\n",
       "      <td>1.4</td>\n",
       "      <td>0.2</td>\n",
       "      <td>setosa</td>\n",
       "    </tr>\n",
       "    <tr>\n",
       "      <th>1</th>\n",
       "      <td>4.9</td>\n",
       "      <td>3.0</td>\n",
       "      <td>1.4</td>\n",
       "      <td>0.2</td>\n",
       "      <td>setosa</td>\n",
       "    </tr>\n",
       "    <tr>\n",
       "      <th>2</th>\n",
       "      <td>4.7</td>\n",
       "      <td>3.2</td>\n",
       "      <td>1.3</td>\n",
       "      <td>0.2</td>\n",
       "      <td>setosa</td>\n",
       "    </tr>\n",
       "  </tbody>\n",
       "</table>\n",
       "</div>"
      ],
      "text/plain": [
       "   sepal_length  sepal_width  petal_length  petal_width species\n",
       "0           5.1          3.5           1.4          0.2  setosa\n",
       "1           4.9          3.0           1.4          0.2  setosa\n",
       "2           4.7          3.2           1.3          0.2  setosa"
      ]
     },
     "execution_count": 37,
     "metadata": {},
     "output_type": "execute_result"
    }
   ],
   "source": [
    "temp_data = iris_df.copy()\n",
    "\n",
    "replace_fct = {0: 'setosa', 1: 'versicolor', 2: \"virginica\"}\n",
    "temp_data.columns = [\"sepal_length\", \"sepal_width\", \"petal_length\", \"petal_width\", \"species\"] \n",
    "temp_data['species'] = temp_data['species'].map(replace_fct)\n",
    "\n",
    "temp_data.head(3)"
   ]
  },
  {
   "cell_type": "markdown",
   "id": "e6b1c706",
   "metadata": {},
   "source": [
    "* (3) 데이터 분할"
   ]
  },
  {
   "cell_type": "code",
   "execution_count": 38,
   "id": "45083789",
   "metadata": {},
   "outputs": [],
   "source": [
    "from sklearn.model_selection import train_test_split\n",
    "X_train, X_test, y_train, y_test = train_test_split(iris_data, # 독립변수 \n",
    "                                                    iris_label, # 종속변수 \n",
    "                                                    test_size = 0.2, \n",
    "                                                    random_state = 1)"
   ]
  },
  {
   "cell_type": "markdown",
   "id": "09e68f1b",
   "metadata": {},
   "source": [
    "* (4) 모델 생성 및 훈련"
   ]
  },
  {
   "cell_type": "code",
   "execution_count": 39,
   "id": "2d0ada69",
   "metadata": {},
   "outputs": [
    {
     "data": {
      "text/plain": [
       "DecisionTreeClassifier(random_state=11)"
      ]
     },
     "execution_count": 39,
     "metadata": {},
     "output_type": "execute_result"
    }
   ],
   "source": [
    "from sklearn.tree import DecisionTreeClassifier\n",
    "\n",
    "# 객체 생성\n",
    "dt_clf = DecisionTreeClassifier(random_state=11)\n",
    "\n",
    "# 학습 수행\n",
    "dt_clf.fit(X_train, y_train)"
   ]
  },
  {
   "cell_type": "markdown",
   "id": "0040ea02",
   "metadata": {},
   "source": [
    "* (5) 테스트 데이터 예측"
   ]
  },
  {
   "cell_type": "code",
   "execution_count": 40,
   "id": "45b23aab",
   "metadata": {},
   "outputs": [
    {
     "name": "stdout",
     "output_type": "stream",
     "text": [
      "The accuracy of the Decision Tree is: 0.967\n"
     ]
    }
   ],
   "source": [
    "from sklearn.metrics import accuracy_score\n",
    "pred = dt_clf.predict(X_test)\n",
    "print('The accuracy of the Decision Tree is: {:.3f}'.format(accuracy_score(pred,y_test)))"
   ]
  },
  {
   "cell_type": "markdown",
   "id": "a7109189",
   "metadata": {},
   "source": [
    "* (6) 결과 시각화"
   ]
  },
  {
   "cell_type": "code",
   "execution_count": 41,
   "id": "aa617d91",
   "metadata": {},
   "outputs": [
    {
     "data": {
      "image/png": "[encoded data removed]",
      "text/plain": [
       "<Figure size 432x288 with 2 Axes>"
      ]
     },
     "metadata": {
      "needs_background": "light"
     },
     "output_type": "display_data"
    }
   ],
   "source": [
    "from sklearn.tree import DecisionTreeClassifier, plot_tree\n",
    "from sklearn.metrics import plot_confusion_matrix\n",
    "import matplotlib.pyplot as plt\n",
    "\n",
    "labels = ['setosa', 'versicolor', 'virginica']\n",
    "disp = plot_confusion_matrix(dt_clf, \n",
    "                             X_test, y_test, \n",
    "                             display_labels=labels, \n",
    "                             cmap=plt.cm.Reds, \n",
    "                             normalize=None)\n",
    "disp.ax_.set_title('Confusion Matrix');"
   ]
  },
  {
   "cell_type": "markdown",
   "id": "769389ae",
   "metadata": {},
   "source": [
    "위 소스코드를 class로 변환한다면 어떻게 해야할까?\n",
    "\n",
    "1) 우선 클래스를 생성하는 동시에 꼭 필요한 변수를 생각해보자.\n",
    "2) class를 어떤 기능을 가진 class로 만들지 고민해보자.\n",
    "\n",
    "---\n",
    "\n",
    "< 구상해보기 > \n",
    "* 1-1 -> 클래스가 생성하는 동시에 iris 데이터를 로드를 하고 데이터 정제까지 완료하면 좋을 것이다.\n",
    "* 1-2 -> 클래스에서 데이터를 정제해 바로 훈련까지 끝낸 모델이 class 생성과 동시에 준비되어 있으면 좋을 것이다.\n",
    "* 2-1 -> 예측이라는 메서드를 만들어서 예측값을 뽑는 기능이 있으면 좋을 것이다.\n",
    "* 2-2 -> 예측을 하고 성능 결과를 시각화 해주는 기능이 있으면 좋을 것이다."
   ]
  },
  {
   "cell_type": "code",
   "execution_count": 48,
   "id": "7dea5a51",
   "metadata": {},
   "outputs": [],
   "source": [
    "class IrisModel:\n",
    "    def __init__(self):\n",
    "        iris = load_iris()\n",
    "        # x 데이터 로드\n",
    "        iris_data = iris.data\n",
    "        # y 데이터 로드\n",
    "        iris_label = iris.target\n",
    "        X_train, X_test, y_train, y_test = train_test_split(iris_data, # 독립변수 \n",
    "                                                    iris_label, # 종속변수 \n",
    "                                                    test_size = 0.2, \n",
    "                                                    random_state = 1)\n",
    "        # 객체 생성\n",
    "        self.dt_clf = DecisionTreeClassifier(random_state=11)\n",
    "\n",
    "        # 학습 수행\n",
    "        self.dt_clf.fit(X_train, y_train)\n",
    "    \n",
    "    def predict(self,X_test):\n",
    "        pred = dt_clf.predict(X_test)\n",
    "        return pred\n",
    "    \n",
    "    def resultPlot(self,X_test,y_test):\n",
    "        labels = ['setosa', 'versicolor', 'virginica']\n",
    "        disp = plot_confusion_matrix(dt_clf, \n",
    "                                     X_test, y_test, \n",
    "                                     display_labels=labels, \n",
    "                                     cmap=plt.cm.Reds, \n",
    "                                     normalize=None)\n",
    "        disp.ax_.set_title('Confusion Matrix');"
   ]
  },
  {
   "cell_type": "code",
   "execution_count": 49,
   "id": "73f3fd55",
   "metadata": {},
   "outputs": [],
   "source": [
    "# iris 클래스로 된 모델 객체 선언.\n",
    "model = IrisModel()"
   ]
  },
  {
   "cell_type": "code",
   "execution_count": 50,
   "id": "c0b0ed2e",
   "metadata": {},
   "outputs": [
    {
     "data": {
      "text/plain": [
       "array([0, 1, 1, 0, 2, 1, 2, 0, 0, 2, 1, 0, 2, 1, 1, 0, 1, 1, 0, 0, 1, 1,\n",
       "       2, 0, 2, 1, 0, 0, 1, 2])"
      ]
     },
     "execution_count": 50,
     "metadata": {},
     "output_type": "execute_result"
    }
   ],
   "source": [
    "# X_test 데이터를 입력시 예측값 반환\n",
    "model.predict(X_test)"
   ]
  },
  {
   "cell_type": "code",
   "execution_count": 51,
   "id": "8edd33b2",
   "metadata": {},
   "outputs": [
    {
     "data": {
      "image/png": "[encoded data removed]",
      "text/plain": [
       "<Figure size 432x288 with 2 Axes>"
      ]
     },
     "metadata": {
      "needs_background": "light"
     },
     "output_type": "display_data"
    }
   ],
   "source": [
    "# X_test와 y_test를 입력시 오차행렬표로 성능 시각화\n",
    "model.resultPlot(X_test,y_test)"
   ]
  },
  {
   "cell_type": "code",
   "execution_count": null,
   "id": "0f488d87",
   "metadata": {},
   "outputs": [],
   "source": []
  }
 ],
 "metadata": {
  "kernelspec": {
   "display_name": "Python 3 (ipykernel)",
   "language": "python",
   "name": "python3"
  },
  "language_info": {
   "codemirror_mode": {
    "name": "ipython",
    "version": 3
   },
   "file_extension": ".py",
   "mimetype": "text/x-python",
   "name": "python",
   "nbconvert_exporter": "python",
   "pygments_lexer": "ipython3",
   "version": "3.7.0"
  }
 },
 "nbformat": 4,
 "nbformat_minor": 5
}
